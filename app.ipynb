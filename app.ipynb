{
  "nbformat": 4,
  "nbformat_minor": 0,
  "metadata": {
    "colab": {
      "provenance": [],
      "authorship_tag": "ABX9TyPJCivxq53blBGF2mOviXcm",
      "include_colab_link": true
    },
    "kernelspec": {
      "name": "python3",
      "display_name": "Python 3"
    },
    "language_info": {
      "name": "python"
    }
  },
  "cells": [
    {
      "cell_type": "markdown",
      "metadata": {
        "id": "view-in-github",
        "colab_type": "text"
      },
      "source": [
        "<a href=\"https://colab.research.google.com/github/oleoespindola/RedditSent/blob/main/app.ipynb\" target=\"_parent\"><img src=\"https://colab.research.google.com/assets/colab-badge.svg\" alt=\"Open In Colab\"/></a>"
      ]
    },
    {
      "cell_type": "markdown",
      "source": [
        "## <img src=\"https://media.giphy.com/media/EfDzi9nKLFPtF0VwTk/giphy.gif?cid=790b7611oh7utjjmlaa2v5p8nz9285pq24nl7jp0kgd6jyis&ep=v1_stickers_search&rid=giphy.gif&ct=s\" alt=\"Giphy: Mascote do Reddit erguendo um corçação\"  style=\"align=center\" height=\"50\"/> Redddit Sent\n",
        "\n",
        "Análise de Sentimentos de Submissões do Reddit\n",
        "\n",
        "Este script desenvolvido tem como objetivo automatizar a análise de sentimentos em comentários de submissões do Reddit. Ele utiliza a API do Reddit para coletar submissões de diferentes subreddits especificados pelo usuário. Em seguida, solicita a classificação dos comentários em positivos, negativos ou neutros em relação às emoções humanas por meio da integração com o ChatGPT, uma inteligência artificial de linguagem natural.\n",
        "\n",
        "\\\n",
        "___\n",
        "\\\n",
        "\n",
        "**Funcionalidades Principais**\n",
        "\n",
        "1.  **Coleta de Dados do Reddit**: O script permite especificar os subreddits alvo para coletar submissões recentes.\n",
        "\n",
        "2. **Análise de Sentimentos**: Utilizando a API do ChatGPT, o script classifica os comentários associados às submissões em três categorias: positivos, negativos ou neutros.\n",
        "\n",
        "3. **Construção de Análise**: Com base nos resultados da classificação de sentimentos, o script gera uma análise detalhada dos dados coletados. Isso pode incluir estatísticas sobre a distribuição de sentimentos, palavras-chave associadas a cada categoria e insights sobre a percepção geral dos usuários em relação aos tópicos discutidos nos subreddits selecionados."
      ],
      "metadata": {
        "id": "zPdxie0nM3Gm"
      }
    },
    {
      "cell_type": "markdown",
      "source": [
        "#### Bibliotecas e Importações Gerais"
      ],
      "metadata": {
        "id": "XsldSs8mNM8I"
      }
    },
    {
      "cell_type": "code",
      "source": [
        "from google.colab import userdata\n",
        "\n",
        "import pandas as pd"
      ],
      "metadata": {
        "id": "cQ1FLnXWNPaY"
      },
      "execution_count": 264,
      "outputs": []
    },
    {
      "cell_type": "markdown",
      "source": [
        "### Reddit\n",
        "\n",
        "Coleta de dados no Reddit, baseada em um assunto pré-determinado, limitando-se ou não a um subreddit. Além disso, nesta seção o tamanhao da amostra é determinado."
      ],
      "metadata": {
        "id": "NibjoqKsEDII"
      }
    },
    {
      "cell_type": "markdown",
      "source": [
        "#### Bibliotecas e Importações"
      ],
      "metadata": {
        "id": "r86XaQsnP8bV"
      }
    },
    {
      "cell_type": "code",
      "source": [
        "!pip install praw"
      ],
      "metadata": {
        "id": "FRjkSiKwpzeM",
        "colab": {
          "base_uri": "https://localhost:8080/"
        },
        "outputId": "66370f3a-d166-478d-9f16-1c39d5b9b79a"
      },
      "execution_count": 265,
      "outputs": [
        {
          "output_type": "stream",
          "name": "stdout",
          "text": [
            "Requirement already satisfied: praw in /usr/local/lib/python3.10/dist-packages (7.7.1)\n",
            "Requirement already satisfied: prawcore<3,>=2.1 in /usr/local/lib/python3.10/dist-packages (from praw) (2.4.0)\n",
            "Requirement already satisfied: update-checker>=0.18 in /usr/local/lib/python3.10/dist-packages (from praw) (0.18.0)\n",
            "Requirement already satisfied: websocket-client>=0.54.0 in /usr/local/lib/python3.10/dist-packages (from praw) (1.8.0)\n",
            "Requirement already satisfied: requests<3.0,>=2.6.0 in /usr/local/lib/python3.10/dist-packages (from prawcore<3,>=2.1->praw) (2.31.0)\n",
            "Requirement already satisfied: charset-normalizer<4,>=2 in /usr/local/lib/python3.10/dist-packages (from requests<3.0,>=2.6.0->prawcore<3,>=2.1->praw) (3.3.2)\n",
            "Requirement already satisfied: idna<4,>=2.5 in /usr/local/lib/python3.10/dist-packages (from requests<3.0,>=2.6.0->prawcore<3,>=2.1->praw) (3.7)\n",
            "Requirement already satisfied: urllib3<3,>=1.21.1 in /usr/local/lib/python3.10/dist-packages (from requests<3.0,>=2.6.0->prawcore<3,>=2.1->praw) (2.0.7)\n",
            "Requirement already satisfied: certifi>=2017.4.17 in /usr/local/lib/python3.10/dist-packages (from requests<3.0,>=2.6.0->prawcore<3,>=2.1->praw) (2024.2.2)\n"
          ]
        }
      ]
    },
    {
      "cell_type": "code",
      "source": [
        "import praw"
      ],
      "metadata": {
        "id": "DC9lrQ4XMCuB"
      },
      "execution_count": 266,
      "outputs": []
    },
    {
      "cell_type": "markdown",
      "source": [
        "#### Variáveis do Reddit\n",
        "- Define o assunto da pesquisa;\n",
        "- Limita os subreddits;\n",
        "- limita o tamanho da amostra."
      ],
      "metadata": {
        "id": "y-Co3c-3MJPi"
      }
    },
    {
      "cell_type": "code",
      "source": [
        "query = 'Ansiedade'\n",
        "subreddit = 'all'  # Pesquisar em todos os subreddits\n",
        "limit = 50 # Limita a quantidade de resultados"
      ],
      "metadata": {
        "id": "2U_V2z_bMENZ"
      },
      "execution_count": 283,
      "outputs": []
    },
    {
      "cell_type": "markdown",
      "source": [
        "**Atribuição de Credenciais**"
      ],
      "metadata": {
        "id": "fv9SoTeXUKg_"
      }
    },
    {
      "cell_type": "code",
      "source": [
        "reddit = praw.Reddit(\n",
        "    client_id = userdata.get('reddit_client_id'),\n",
        "    client_secret = userdata.get('reddit_client_secret'),\n",
        "    user_agent = userdata.get('reddit_user_agent')\n",
        ")"
      ],
      "metadata": {
        "id": "AedNYFRcNZHZ"
      },
      "execution_count": 268,
      "outputs": []
    },
    {
      "cell_type": "markdown",
      "source": [
        "#### Coleta e Tratamento dos daddos"
      ],
      "metadata": {
        "id": "6Q1ff7WVUTgo"
      }
    },
    {
      "cell_type": "markdown",
      "source": [
        "**1. Coleta**"
      ],
      "metadata": {
        "id": "36ZVRL-IWNRD"
      }
    },
    {
      "cell_type": "code",
      "source": [
        "subreddit = reddit.subreddit(subreddit)\n",
        "submissions  = subreddit.search(query, limit=limit)"
      ],
      "metadata": {
        "id": "1t5NjSmALCRC"
      },
      "execution_count": 284,
      "outputs": []
    },
    {
      "cell_type": "markdown",
      "source": [
        "**2. Tratamento dos Dados**"
      ],
      "metadata": {
        "id": "0dtn908_UZRk"
      }
    },
    {
      "cell_type": "code",
      "source": [
        "data = {\n",
        "    \"title\": [],\n",
        "    \"score\": [],\n",
        "    \"id\": [],\n",
        "    \"url\": [],\n",
        "    \"created\": [],\n",
        "    \"author\": []\n",
        "}\n",
        "\n",
        "for submission in submissions:\n",
        "    data[\"title\"].append(submission.title)\n",
        "    data[\"score\"].append(submission.score)\n",
        "    data[\"id\"].append(submission.id)\n",
        "    data[\"url\"].append(submission.url)\n",
        "    data[\"created\"].append(submission.created)\n",
        "    data[\"author\"].append(submission.author)\n",
        "\n",
        "df = pd.DataFrame(data)"
      ],
      "metadata": {
        "colab": {
          "base_uri": "https://localhost:8080/"
        },
        "id": "Z3e38le4QHvu",
        "outputId": "6e1f8a0f-7674-4cd9-a13c-5419c3b1c224"
      },
      "execution_count": 285,
      "outputs": [
        {
          "output_type": "stream",
          "name": "stderr",
          "text": [
            "WARNING:praw:It appears that you are using PRAW in an asynchronous environment.\n",
            "It is strongly recommended to use Async PRAW: https://asyncpraw.readthedocs.io.\n",
            "See https://praw.readthedocs.io/en/latest/getting_started/multiple_instances.html#discord-bots-and-asynchronous-environments for more info.\n",
            "\n"
          ]
        }
      ]
    },
    {
      "cell_type": "markdown",
      "source": [
        "**BackUp da Consulta**"
      ],
      "metadata": {
        "id": "QeONy1BDUhp2"
      }
    },
    {
      "cell_type": "code",
      "source": [
        "df.to_csv('data.csv', index=False)"
      ],
      "metadata": {
        "id": "ViUwGXupRjqt"
      },
      "execution_count": 286,
      "outputs": []
    },
    {
      "cell_type": "markdown",
      "source": [
        "### OpenAI\n",
        "\n",
        "Envia os *submissions* (postagens) coletados anteriormente ao chatGPT e pele para classifica-los como positivos, negativosm ou neutros."
      ],
      "metadata": {
        "id": "vDzN8dnQRzIs"
      }
    },
    {
      "cell_type": "markdown",
      "source": [
        "#### Bibliotecas e Importações"
      ],
      "metadata": {
        "id": "P3GXQ_X7VD5Z"
      }
    },
    {
      "cell_type": "code",
      "source": [
        "!pip install openai"
      ],
      "metadata": {
        "colab": {
          "base_uri": "https://localhost:8080/"
        },
        "id": "i3RzUwX9Ry4U",
        "outputId": "a7e711ba-dff0-44c9-ac3c-a36bdc018b69"
      },
      "execution_count": 272,
      "outputs": [
        {
          "output_type": "stream",
          "name": "stdout",
          "text": [
            "Requirement already satisfied: openai in /usr/local/lib/python3.10/dist-packages (1.25.2)\n",
            "Requirement already satisfied: anyio<5,>=3.5.0 in /usr/local/lib/python3.10/dist-packages (from openai) (3.7.1)\n",
            "Requirement already satisfied: distro<2,>=1.7.0 in /usr/lib/python3/dist-packages (from openai) (1.7.0)\n",
            "Requirement already satisfied: httpx<1,>=0.23.0 in /usr/local/lib/python3.10/dist-packages (from openai) (0.27.0)\n",
            "Requirement already satisfied: pydantic<3,>=1.9.0 in /usr/local/lib/python3.10/dist-packages (from openai) (2.7.1)\n",
            "Requirement already satisfied: sniffio in /usr/local/lib/python3.10/dist-packages (from openai) (1.3.1)\n",
            "Requirement already satisfied: tqdm>4 in /usr/local/lib/python3.10/dist-packages (from openai) (4.66.2)\n",
            "Requirement already satisfied: typing-extensions<5,>=4.7 in /usr/local/lib/python3.10/dist-packages (from openai) (4.11.0)\n",
            "Requirement already satisfied: idna>=2.8 in /usr/local/lib/python3.10/dist-packages (from anyio<5,>=3.5.0->openai) (3.7)\n",
            "Requirement already satisfied: exceptiongroup in /usr/local/lib/python3.10/dist-packages (from anyio<5,>=3.5.0->openai) (1.2.1)\n",
            "Requirement already satisfied: certifi in /usr/local/lib/python3.10/dist-packages (from httpx<1,>=0.23.0->openai) (2024.2.2)\n",
            "Requirement already satisfied: httpcore==1.* in /usr/local/lib/python3.10/dist-packages (from httpx<1,>=0.23.0->openai) (1.0.5)\n",
            "Requirement already satisfied: h11<0.15,>=0.13 in /usr/local/lib/python3.10/dist-packages (from httpcore==1.*->httpx<1,>=0.23.0->openai) (0.14.0)\n",
            "Requirement already satisfied: annotated-types>=0.4.0 in /usr/local/lib/python3.10/dist-packages (from pydantic<3,>=1.9.0->openai) (0.6.0)\n",
            "Requirement already satisfied: pydantic-core==2.18.2 in /usr/local/lib/python3.10/dist-packages (from pydantic<3,>=1.9.0->openai) (2.18.2)\n"
          ]
        }
      ]
    },
    {
      "cell_type": "code",
      "source": [
        "from openai import OpenAI"
      ],
      "metadata": {
        "id": "gUh-uAfQTBXK"
      },
      "execution_count": 273,
      "outputs": []
    },
    {
      "cell_type": "markdown",
      "source": [
        "**Atribuição de Credenciais**"
      ],
      "metadata": {
        "id": "ytePA0m7Vtlf"
      }
    },
    {
      "cell_type": "code",
      "source": [
        "client = OpenAI(\n",
        "    api_key = userdata.get('openai_api_key')\n",
        ")"
      ],
      "metadata": {
        "id": "bo6tSzn2TcGi"
      },
      "execution_count": 274,
      "outputs": []
    },
    {
      "cell_type": "markdown",
      "source": [
        "#### Envio e Coleta das Informações"
      ],
      "metadata": {
        "id": "ut9RAUz5VVUS"
      }
    },
    {
      "cell_type": "markdown",
      "source": [
        "**1. Função de Classificação das submissions**\n",
        "\n",
        "Cria uma função para adicionar as respostas da AI em uma nova coluna do DataFrame"
      ],
      "metadata": {
        "id": "vb3_Am77WY4o"
      }
    },
    {
      "cell_type": "code",
      "source": [
        "def classify_submission(submission):\n",
        "  completion = client.chat.completions.create(\n",
        "  model=\"gpt-3.5-turbo\",\n",
        "  messages=[\n",
        "    {\"role\": \"system\", \"content\": \"O chatbot responde com uma das três pavras seguintes: positivo, negativo, neutro. A palavra escolhida serve para adjetivar o sentimento humano expresso na mensagem do usuário. O chatbot nunca deve responder em inglês ou usar variações de letras maiúsculas, minúsculas ou de potuação. Além disso, as respostas serão sempre em português (brasileiro) e apenas uma palavra das três deve ser eescolhida.\"},\n",
        "    {\"role\": \"user\", \"content\": f\"{submission}\"}\n",
        "  ]\n",
        ")\n",
        "  return completion.choices[0].message.content"
      ],
      "metadata": {
        "id": "35GG012nTnX-"
      },
      "execution_count": 275,
      "outputs": []
    },
    {
      "cell_type": "markdown",
      "source": [
        "**2. Aplicação das classificações**"
      ],
      "metadata": {
        "id": "aR-znnEqWq5p"
      }
    },
    {
      "cell_type": "code",
      "source": [
        "df['submission_rating'] = df['title'].apply(classify_submission)"
      ],
      "metadata": {
        "id": "XugLarc1epzT"
      },
      "execution_count": 287,
      "outputs": []
    },
    {
      "cell_type": "markdown",
      "source": [
        "**BackUp da Consulta**"
      ],
      "metadata": {
        "id": "d0URI4boXKtW"
      }
    },
    {
      "cell_type": "code",
      "source": [
        "df.to_csv('data.csv', index=False)"
      ],
      "metadata": {
        "id": "ZGuJJnXCXFVz"
      },
      "execution_count": 288,
      "outputs": []
    },
    {
      "cell_type": "markdown",
      "source": [
        "### Data Analysis"
      ],
      "metadata": {
        "id": "ez1V_ULnXMgL"
      }
    },
    {
      "cell_type": "markdown",
      "source": [
        "#### Bibliotecas e Importações"
      ],
      "metadata": {
        "id": "k7ABVch9X6r1"
      }
    },
    {
      "cell_type": "code",
      "source": [
        "import plotly.express as px"
      ],
      "metadata": {
        "id": "KjrGgydYYLpS"
      },
      "execution_count": 278,
      "outputs": []
    },
    {
      "cell_type": "markdown",
      "source": [
        "#### Visão Geral"
      ],
      "metadata": {
        "id": "Pgf6T7j4bOnA"
      }
    },
    {
      "cell_type": "code",
      "source": [
        "rating_results = df.groupby('submission_rating').agg(count_rating=('submission_rating', 'count'), score_sum=('score', 'sum')).reset_index()\n",
        "rating_results = rating_results.sort_values(by='count_rating', ascending=False)"
      ],
      "metadata": {
        "id": "AvJwpMVZbQcL"
      },
      "execution_count": 289,
      "outputs": []
    },
    {
      "cell_type": "code",
      "source": [
        "rating_totals_results = rating_results.copy() # Copia a Tabela de Resultados\n",
        "\n",
        "rating_totals_results.loc['Total'] = rating_totals_results[['count_rating', 'score_sum' ]].sum() # Cria uma linha de totais\n",
        "rating_totals_results = rating_totals_results.fillna(\"\") # Substitui os valores NaN (que significa que a célula não possui valores), por vazio.\n",
        "\n",
        "# Formatação da Tabela\n",
        "#\n",
        "## Remove as cadas decimais após a vírgula e coloca os cabeçalhos em letra maiúscula.\n",
        "rating_totals_results = rating_totals_results.style \\\n",
        "  .format(precision=0) \\\n",
        "  .format_index(str.upper, axis=1)"
      ],
      "metadata": {
        "id": "6LBTmSn_bYTd"
      },
      "execution_count": 290,
      "outputs": []
    },
    {
      "cell_type": "code",
      "source": [
        "rating_totals_results"
      ],
      "metadata": {
        "colab": {
          "base_uri": "https://localhost:8080/",
          "height": 237
        },
        "id": "BTXa6bQP93a6",
        "outputId": "29ddf2ab-efc6-4947-e46e-e52d6e4d6ea4"
      },
      "execution_count": 295,
      "outputs": [
        {
          "output_type": "execute_result",
          "data": {
            "text/plain": [
              "<pandas.io.formats.style.Styler at 0x7a4aecfdb280>"
            ],
            "text/html": [
              "<style type=\"text/css\">\n",
              "</style>\n",
              "<table id=\"T_b1eca\" class=\"dataframe\">\n",
              "  <thead>\n",
              "    <tr>\n",
              "      <th class=\"blank level0\" >&nbsp;</th>\n",
              "      <th id=\"T_b1eca_level0_col0\" class=\"col_heading level0 col0\" >SUBMISSION_RATING</th>\n",
              "      <th id=\"T_b1eca_level0_col1\" class=\"col_heading level0 col1\" >COUNT_RATING</th>\n",
              "      <th id=\"T_b1eca_level0_col2\" class=\"col_heading level0 col2\" >SCORE_SUM</th>\n",
              "    </tr>\n",
              "  </thead>\n",
              "  <tbody>\n",
              "    <tr>\n",
              "      <th id=\"T_b1eca_level0_row0\" class=\"row_heading level0 row0\" >0</th>\n",
              "      <td id=\"T_b1eca_row0_col0\" class=\"data row0 col0\" >negativo</td>\n",
              "      <td id=\"T_b1eca_row0_col1\" class=\"data row0 col1\" >36</td>\n",
              "      <td id=\"T_b1eca_row0_col2\" class=\"data row0 col2\" >11486</td>\n",
              "    </tr>\n",
              "    <tr>\n",
              "      <th id=\"T_b1eca_level0_row1\" class=\"row_heading level0 row1\" >3</th>\n",
              "      <td id=\"T_b1eca_row1_col0\" class=\"data row1 col0\" >positivo</td>\n",
              "      <td id=\"T_b1eca_row1_col1\" class=\"data row1 col1\" >10</td>\n",
              "      <td id=\"T_b1eca_row1_col2\" class=\"data row1 col2\" >262</td>\n",
              "    </tr>\n",
              "    <tr>\n",
              "      <th id=\"T_b1eca_level0_row2\" class=\"row_heading level0 row2\" >2</th>\n",
              "      <td id=\"T_b1eca_row2_col0\" class=\"data row2 col0\" >neutro</td>\n",
              "      <td id=\"T_b1eca_row2_col1\" class=\"data row2 col1\" >2</td>\n",
              "      <td id=\"T_b1eca_row2_col2\" class=\"data row2 col2\" >47</td>\n",
              "    </tr>\n",
              "    <tr>\n",
              "      <th id=\"T_b1eca_level0_row3\" class=\"row_heading level0 row3\" >1</th>\n",
              "      <td id=\"T_b1eca_row3_col0\" class=\"data row3 col0\" >negativo </td>\n",
              "      <td id=\"T_b1eca_row3_col1\" class=\"data row3 col1\" >1</td>\n",
              "      <td id=\"T_b1eca_row3_col2\" class=\"data row3 col2\" >1</td>\n",
              "    </tr>\n",
              "    <tr>\n",
              "      <th id=\"T_b1eca_level0_row4\" class=\"row_heading level0 row4\" >4</th>\n",
              "      <td id=\"T_b1eca_row4_col0\" class=\"data row4 col0\" >positivo </td>\n",
              "      <td id=\"T_b1eca_row4_col1\" class=\"data row4 col1\" >1</td>\n",
              "      <td id=\"T_b1eca_row4_col2\" class=\"data row4 col2\" >27</td>\n",
              "    </tr>\n",
              "    <tr>\n",
              "      <th id=\"T_b1eca_level0_row5\" class=\"row_heading level0 row5\" >Total</th>\n",
              "      <td id=\"T_b1eca_row5_col0\" class=\"data row5 col0\" ></td>\n",
              "      <td id=\"T_b1eca_row5_col1\" class=\"data row5 col1\" >50</td>\n",
              "      <td id=\"T_b1eca_row5_col2\" class=\"data row5 col2\" >11823</td>\n",
              "    </tr>\n",
              "  </tbody>\n",
              "</table>\n"
            ]
          },
          "metadata": {},
          "execution_count": 295
        }
      ]
    },
    {
      "cell_type": "markdown",
      "source": [
        "#### Quantidade de postagens por Classificação"
      ],
      "metadata": {
        "id": "kRiXvBSdYgJx"
      }
    },
    {
      "cell_type": "code",
      "source": [
        "# Cria um gráfico de pizza com furo (hole) em tons de verde (monocromático)\n",
        "pie_chart = px.pie(rating_results, values='count_rating', \\\n",
        "                   names='submission_rating',\\\n",
        "                   title='Quantidade de Postagens por Classificação', \\\n",
        "                   hole=.3, \\\n",
        "                   color_discrete_sequence=px.colors.sequential.Greens_r)\n",
        "\n",
        "pie_chart.update_traces(customdata=rating_results['score_sum'],\n",
        "    hovertemplate=\"\"\"<b>%{label}</b><br>Score: %{customdata}\"\"\",\n",
        "    textinfo='label+percent+value',\n",
        "    textfont_size=14,)\n",
        "\n",
        "pie_chart.show()"
      ],
      "metadata": {
        "colab": {
          "base_uri": "https://localhost:8080/",
          "height": 542
        },
        "id": "9-1hHpjl0KOZ",
        "outputId": "bbdada25-7813-4f5c-e009-a112cb361427"
      },
      "execution_count": 299,
      "outputs": [
        {
          "output_type": "display_data",
          "data": {
            "text/html": [
              "<html>\n",
              "<head><meta charset=\"utf-8\" /></head>\n",
              "<body>\n",
              "    <div>            <script src=\"https://cdnjs.cloudflare.com/ajax/libs/mathjax/2.7.5/MathJax.js?config=TeX-AMS-MML_SVG\"></script><script type=\"text/javascript\">if (window.MathJax && window.MathJax.Hub && window.MathJax.Hub.Config) {window.MathJax.Hub.Config({SVG: {font: \"STIX-Web\"}});}</script>                <script type=\"text/javascript\">window.PlotlyConfig = {MathJaxConfig: 'local'};</script>\n",
              "        <script charset=\"utf-8\" src=\"https://cdn.plot.ly/plotly-2.24.1.min.js\"></script>                <div id=\"143b9c1b-f376-4921-b37c-e66c948a6d63\" class=\"plotly-graph-div\" style=\"height:525px; width:100%;\"></div>            <script type=\"text/javascript\">                                    window.PLOTLYENV=window.PLOTLYENV || {};                                    if (document.getElementById(\"143b9c1b-f376-4921-b37c-e66c948a6d63\")) {                    Plotly.newPlot(                        \"143b9c1b-f376-4921-b37c-e66c948a6d63\",                        [{\"domain\":{\"x\":[0.0,1.0],\"y\":[0.0,1.0]},\"hole\":0.3,\"hovertemplate\":\"\\u003cb\\u003e%{label}\\u003c\\u002fb\\u003e\\u003cbr\\u003eScore: %{customdata}\",\"labels\":[\"negativo\",\"positivo\",\"neutro\",\"negativo \",\"positivo \"],\"legendgroup\":\"\",\"name\":\"\",\"showlegend\":true,\"values\":[36,10,2,1,1],\"type\":\"pie\",\"textfont\":{\"size\":14},\"customdata\":[11486,262,47,1,27],\"textinfo\":\"label+percent+value\"}],                        {\"template\":{\"data\":{\"histogram2dcontour\":[{\"type\":\"histogram2dcontour\",\"colorbar\":{\"outlinewidth\":0,\"ticks\":\"\"},\"colorscale\":[[0.0,\"#0d0887\"],[0.1111111111111111,\"#46039f\"],[0.2222222222222222,\"#7201a8\"],[0.3333333333333333,\"#9c179e\"],[0.4444444444444444,\"#bd3786\"],[0.5555555555555556,\"#d8576b\"],[0.6666666666666666,\"#ed7953\"],[0.7777777777777778,\"#fb9f3a\"],[0.8888888888888888,\"#fdca26\"],[1.0,\"#f0f921\"]]}],\"choropleth\":[{\"type\":\"choropleth\",\"colorbar\":{\"outlinewidth\":0,\"ticks\":\"\"}}],\"histogram2d\":[{\"type\":\"histogram2d\",\"colorbar\":{\"outlinewidth\":0,\"ticks\":\"\"},\"colorscale\":[[0.0,\"#0d0887\"],[0.1111111111111111,\"#46039f\"],[0.2222222222222222,\"#7201a8\"],[0.3333333333333333,\"#9c179e\"],[0.4444444444444444,\"#bd3786\"],[0.5555555555555556,\"#d8576b\"],[0.6666666666666666,\"#ed7953\"],[0.7777777777777778,\"#fb9f3a\"],[0.8888888888888888,\"#fdca26\"],[1.0,\"#f0f921\"]]}],\"heatmap\":[{\"type\":\"heatmap\",\"colorbar\":{\"outlinewidth\":0,\"ticks\":\"\"},\"colorscale\":[[0.0,\"#0d0887\"],[0.1111111111111111,\"#46039f\"],[0.2222222222222222,\"#7201a8\"],[0.3333333333333333,\"#9c179e\"],[0.4444444444444444,\"#bd3786\"],[0.5555555555555556,\"#d8576b\"],[0.6666666666666666,\"#ed7953\"],[0.7777777777777778,\"#fb9f3a\"],[0.8888888888888888,\"#fdca26\"],[1.0,\"#f0f921\"]]}],\"heatmapgl\":[{\"type\":\"heatmapgl\",\"colorbar\":{\"outlinewidth\":0,\"ticks\":\"\"},\"colorscale\":[[0.0,\"#0d0887\"],[0.1111111111111111,\"#46039f\"],[0.2222222222222222,\"#7201a8\"],[0.3333333333333333,\"#9c179e\"],[0.4444444444444444,\"#bd3786\"],[0.5555555555555556,\"#d8576b\"],[0.6666666666666666,\"#ed7953\"],[0.7777777777777778,\"#fb9f3a\"],[0.8888888888888888,\"#fdca26\"],[1.0,\"#f0f921\"]]}],\"contourcarpet\":[{\"type\":\"contourcarpet\",\"colorbar\":{\"outlinewidth\":0,\"ticks\":\"\"}}],\"contour\":[{\"type\":\"contour\",\"colorbar\":{\"outlinewidth\":0,\"ticks\":\"\"},\"colorscale\":[[0.0,\"#0d0887\"],[0.1111111111111111,\"#46039f\"],[0.2222222222222222,\"#7201a8\"],[0.3333333333333333,\"#9c179e\"],[0.4444444444444444,\"#bd3786\"],[0.5555555555555556,\"#d8576b\"],[0.6666666666666666,\"#ed7953\"],[0.7777777777777778,\"#fb9f3a\"],[0.8888888888888888,\"#fdca26\"],[1.0,\"#f0f921\"]]}],\"surface\":[{\"type\":\"surface\",\"colorbar\":{\"outlinewidth\":0,\"ticks\":\"\"},\"colorscale\":[[0.0,\"#0d0887\"],[0.1111111111111111,\"#46039f\"],[0.2222222222222222,\"#7201a8\"],[0.3333333333333333,\"#9c179e\"],[0.4444444444444444,\"#bd3786\"],[0.5555555555555556,\"#d8576b\"],[0.6666666666666666,\"#ed7953\"],[0.7777777777777778,\"#fb9f3a\"],[0.8888888888888888,\"#fdca26\"],[1.0,\"#f0f921\"]]}],\"mesh3d\":[{\"type\":\"mesh3d\",\"colorbar\":{\"outlinewidth\":0,\"ticks\":\"\"}}],\"scatter\":[{\"fillpattern\":{\"fillmode\":\"overlay\",\"size\":10,\"solidity\":0.2},\"type\":\"scatter\"}],\"parcoords\":[{\"type\":\"parcoords\",\"line\":{\"colorbar\":{\"outlinewidth\":0,\"ticks\":\"\"}}}],\"scatterpolargl\":[{\"type\":\"scatterpolargl\",\"marker\":{\"colorbar\":{\"outlinewidth\":0,\"ticks\":\"\"}}}],\"bar\":[{\"error_x\":{\"color\":\"#2a3f5f\"},\"error_y\":{\"color\":\"#2a3f5f\"},\"marker\":{\"line\":{\"color\":\"#E5ECF6\",\"width\":0.5},\"pattern\":{\"fillmode\":\"overlay\",\"size\":10,\"solidity\":0.2}},\"type\":\"bar\"}],\"scattergeo\":[{\"type\":\"scattergeo\",\"marker\":{\"colorbar\":{\"outlinewidth\":0,\"ticks\":\"\"}}}],\"scatterpolar\":[{\"type\":\"scatterpolar\",\"marker\":{\"colorbar\":{\"outlinewidth\":0,\"ticks\":\"\"}}}],\"histogram\":[{\"marker\":{\"pattern\":{\"fillmode\":\"overlay\",\"size\":10,\"solidity\":0.2}},\"type\":\"histogram\"}],\"scattergl\":[{\"type\":\"scattergl\",\"marker\":{\"colorbar\":{\"outlinewidth\":0,\"ticks\":\"\"}}}],\"scatter3d\":[{\"type\":\"scatter3d\",\"line\":{\"colorbar\":{\"outlinewidth\":0,\"ticks\":\"\"}},\"marker\":{\"colorbar\":{\"outlinewidth\":0,\"ticks\":\"\"}}}],\"scattermapbox\":[{\"type\":\"scattermapbox\",\"marker\":{\"colorbar\":{\"outlinewidth\":0,\"ticks\":\"\"}}}],\"scatterternary\":[{\"type\":\"scatterternary\",\"marker\":{\"colorbar\":{\"outlinewidth\":0,\"ticks\":\"\"}}}],\"scattercarpet\":[{\"type\":\"scattercarpet\",\"marker\":{\"colorbar\":{\"outlinewidth\":0,\"ticks\":\"\"}}}],\"carpet\":[{\"aaxis\":{\"endlinecolor\":\"#2a3f5f\",\"gridcolor\":\"white\",\"linecolor\":\"white\",\"minorgridcolor\":\"white\",\"startlinecolor\":\"#2a3f5f\"},\"baxis\":{\"endlinecolor\":\"#2a3f5f\",\"gridcolor\":\"white\",\"linecolor\":\"white\",\"minorgridcolor\":\"white\",\"startlinecolor\":\"#2a3f5f\"},\"type\":\"carpet\"}],\"table\":[{\"cells\":{\"fill\":{\"color\":\"#EBF0F8\"},\"line\":{\"color\":\"white\"}},\"header\":{\"fill\":{\"color\":\"#C8D4E3\"},\"line\":{\"color\":\"white\"}},\"type\":\"table\"}],\"barpolar\":[{\"marker\":{\"line\":{\"color\":\"#E5ECF6\",\"width\":0.5},\"pattern\":{\"fillmode\":\"overlay\",\"size\":10,\"solidity\":0.2}},\"type\":\"barpolar\"}],\"pie\":[{\"automargin\":true,\"type\":\"pie\"}]},\"layout\":{\"autotypenumbers\":\"strict\",\"colorway\":[\"#636efa\",\"#EF553B\",\"#00cc96\",\"#ab63fa\",\"#FFA15A\",\"#19d3f3\",\"#FF6692\",\"#B6E880\",\"#FF97FF\",\"#FECB52\"],\"font\":{\"color\":\"#2a3f5f\"},\"hovermode\":\"closest\",\"hoverlabel\":{\"align\":\"left\"},\"paper_bgcolor\":\"white\",\"plot_bgcolor\":\"#E5ECF6\",\"polar\":{\"bgcolor\":\"#E5ECF6\",\"angularaxis\":{\"gridcolor\":\"white\",\"linecolor\":\"white\",\"ticks\":\"\"},\"radialaxis\":{\"gridcolor\":\"white\",\"linecolor\":\"white\",\"ticks\":\"\"}},\"ternary\":{\"bgcolor\":\"#E5ECF6\",\"aaxis\":{\"gridcolor\":\"white\",\"linecolor\":\"white\",\"ticks\":\"\"},\"baxis\":{\"gridcolor\":\"white\",\"linecolor\":\"white\",\"ticks\":\"\"},\"caxis\":{\"gridcolor\":\"white\",\"linecolor\":\"white\",\"ticks\":\"\"}},\"coloraxis\":{\"colorbar\":{\"outlinewidth\":0,\"ticks\":\"\"}},\"colorscale\":{\"sequential\":[[0.0,\"#0d0887\"],[0.1111111111111111,\"#46039f\"],[0.2222222222222222,\"#7201a8\"],[0.3333333333333333,\"#9c179e\"],[0.4444444444444444,\"#bd3786\"],[0.5555555555555556,\"#d8576b\"],[0.6666666666666666,\"#ed7953\"],[0.7777777777777778,\"#fb9f3a\"],[0.8888888888888888,\"#fdca26\"],[1.0,\"#f0f921\"]],\"sequentialminus\":[[0.0,\"#0d0887\"],[0.1111111111111111,\"#46039f\"],[0.2222222222222222,\"#7201a8\"],[0.3333333333333333,\"#9c179e\"],[0.4444444444444444,\"#bd3786\"],[0.5555555555555556,\"#d8576b\"],[0.6666666666666666,\"#ed7953\"],[0.7777777777777778,\"#fb9f3a\"],[0.8888888888888888,\"#fdca26\"],[1.0,\"#f0f921\"]],\"diverging\":[[0,\"#8e0152\"],[0.1,\"#c51b7d\"],[0.2,\"#de77ae\"],[0.3,\"#f1b6da\"],[0.4,\"#fde0ef\"],[0.5,\"#f7f7f7\"],[0.6,\"#e6f5d0\"],[0.7,\"#b8e186\"],[0.8,\"#7fbc41\"],[0.9,\"#4d9221\"],[1,\"#276419\"]]},\"xaxis\":{\"gridcolor\":\"white\",\"linecolor\":\"white\",\"ticks\":\"\",\"title\":{\"standoff\":15},\"zerolinecolor\":\"white\",\"automargin\":true,\"zerolinewidth\":2},\"yaxis\":{\"gridcolor\":\"white\",\"linecolor\":\"white\",\"ticks\":\"\",\"title\":{\"standoff\":15},\"zerolinecolor\":\"white\",\"automargin\":true,\"zerolinewidth\":2},\"scene\":{\"xaxis\":{\"backgroundcolor\":\"#E5ECF6\",\"gridcolor\":\"white\",\"linecolor\":\"white\",\"showbackground\":true,\"ticks\":\"\",\"zerolinecolor\":\"white\",\"gridwidth\":2},\"yaxis\":{\"backgroundcolor\":\"#E5ECF6\",\"gridcolor\":\"white\",\"linecolor\":\"white\",\"showbackground\":true,\"ticks\":\"\",\"zerolinecolor\":\"white\",\"gridwidth\":2},\"zaxis\":{\"backgroundcolor\":\"#E5ECF6\",\"gridcolor\":\"white\",\"linecolor\":\"white\",\"showbackground\":true,\"ticks\":\"\",\"zerolinecolor\":\"white\",\"gridwidth\":2}},\"shapedefaults\":{\"line\":{\"color\":\"#2a3f5f\"}},\"annotationdefaults\":{\"arrowcolor\":\"#2a3f5f\",\"arrowhead\":0,\"arrowwidth\":1},\"geo\":{\"bgcolor\":\"white\",\"landcolor\":\"#E5ECF6\",\"subunitcolor\":\"white\",\"showland\":true,\"showlakes\":true,\"lakecolor\":\"white\"},\"title\":{\"x\":0.05},\"mapbox\":{\"style\":\"light\"}}},\"legend\":{\"tracegroupgap\":0},\"title\":{\"text\":\"Quantidade de Postagens por Classifica\\u00e7\\u00e3o\"},\"piecolorway\":[\"rgb(0,68,27)\",\"rgb(0,109,44)\",\"rgb(35,139,69)\",\"rgb(65,171,93)\",\"rgb(116,196,118)\",\"rgb(161,217,155)\",\"rgb(199,233,192)\",\"rgb(229,245,224)\",\"rgb(247,252,245)\"]},                        {\"responsive\": true}                    ).then(function(){\n",
              "                            \n",
              "var gd = document.getElementById('143b9c1b-f376-4921-b37c-e66c948a6d63');\n",
              "var x = new MutationObserver(function (mutations, observer) {{\n",
              "        var display = window.getComputedStyle(gd).display;\n",
              "        if (!display || display === 'none') {{\n",
              "            console.log([gd, 'removed!']);\n",
              "            Plotly.purge(gd);\n",
              "            observer.disconnect();\n",
              "        }}\n",
              "}});\n",
              "\n",
              "// Listen for the removal of the full notebook cells\n",
              "var notebookContainer = gd.closest('#notebook-container');\n",
              "if (notebookContainer) {{\n",
              "    x.observe(notebookContainer, {childList: true});\n",
              "}}\n",
              "\n",
              "// Listen for the clearing of the current output cell\n",
              "var outputEl = gd.closest('.output');\n",
              "if (outputEl) {{\n",
              "    x.observe(outputEl, {childList: true});\n",
              "}}\n",
              "\n",
              "                        })                };                            </script>        </div>\n",
              "</body>\n",
              "</html>"
            ]
          },
          "metadata": {}
        }
      ]
    },
    {
      "cell_type": "markdown",
      "source": [
        "#### Score por Classificação"
      ],
      "metadata": {
        "id": "zFqjoFf2Zg5v"
      }
    }
  ]
}